{
 "cells": [
  {
   "cell_type": "code",
   "execution_count": 1,
   "metadata": {},
   "outputs": [],
   "source": [
    "import pickle\n",
    "import numpy as np\n",
    "from sklearn import linear_model\n",
    "from sklearn.model_selection import train_test_split\n",
    "from sklearn.preprocessing import PolynomialFeatures\n",
    "from sklearn.linear_model import LinearRegression\n",
    "import matplotlib.pyplot as plt\n",
    "\n",
    "from prettytable import PrettyTable"
   ]
  },
  {
   "cell_type": "code",
   "execution_count": 2,
   "metadata": {},
   "outputs": [],
   "source": [
    "file = open('./Q2_data/X_train.pkl', 'rb')\n",
    "x_train = pickle.load(file)\n",
    "file.close()\n",
    "\n",
    "file = open('./Q2_data/Y_train.pkl', 'rb')\n",
    "y_train = pickle.load(file)\n",
    "file.close()\n",
    "\n",
    "file = open('./Q2_data/X_test.pkl', 'rb')\n",
    "x_test_data = pickle.load(file)\n",
    "file.close()\n",
    "\n",
    "file = open('./Q2_data/Fx_test.pkl', 'rb')\n",
    "y_test_data = pickle.load(file)\n",
    "file.close()"
   ]
  },
  {
   "cell_type": "code",
   "execution_count": 3,
   "metadata": {},
   "outputs": [],
   "source": [
    "x_train = np.array(x_train)\n",
    "y_train = np.array(y_train)\n",
    "\n",
    "x_test_data = [[x] for x in x_test_data]"
   ]
  },
  {
   "cell_type": "code",
   "execution_count": 4,
   "metadata": {},
   "outputs": [],
   "source": [
    "final_bias = []\n",
    "final_variance = []"
   ]
  },
  {
   "cell_type": "code",
   "execution_count": 5,
   "metadata": {},
   "outputs": [],
   "source": [
    "for degree in range(1, 10):\n",
    "    bias = np.zeros(80)\n",
    "    variance = np.zeros(80)\n",
    "    y_predicted = []\n",
    "\n",
    "    for set_iter in range(20):\n",
    "        x_train_data = x_train[set_iter]\n",
    "        y_train_data = y_train[set_iter]\n",
    "        x_train_data = [[x] for x in x_train_data]\n",
    "\n",
    "        polyFeature = PolynomialFeatures(degree)\n",
    "        x_train_data = polyFeature.fit_transform(x_train_data)\n",
    "        x_test_poly = polyFeature.fit_transform(x_test_data)\n",
    "\n",
    "        reg = LinearRegression().fit(x_train_data, y_train_data)\n",
    "        y_predicted = reg.predict(x_test_poly)\n",
    "        bias = np.add(bias, y_predicted)\n",
    "        variance = np.add(variance, y_predicted**2)\n",
    "\n",
    "    bias /= 10                                          # E[y']\n",
    "    variance /= 10                                      # E[y'^2]\n",
    "\n",
    "    variance = np.subtract(variance, np.square(bias))   # var = E[y'^2] - E[y']^2\n",
    "    bias = np.subtract(bias, y_test_data)               # bias = E[y'] - y\n",
    "    bias = np.square(bias)\n",
    "    \n",
    "    final_bias.append(np.average(bias))\n",
    "    final_variance.append(np.average(variance))"
   ]
  },
  {
   "cell_type": "code",
   "execution_count": 10,
   "metadata": {},
   "outputs": [
    {
     "name": "stdout",
     "output_type": "stream",
     "text": [
      "+--------+-------------------+---------------------+\n",
      "| Degree |        Bias       |       Variance      |\n",
      "+--------+-------------------+---------------------+\n",
      "|   1    | 4879192.959843042 |  -9518913.382511023 |\n",
      "|   2    | 4953090.214577658 |  -9571378.150594592 |\n",
      "|   3    | 7554879.983984895 | -14015221.239361688 |\n",
      "|   4    | 7565881.964715963 | -13898864.046500629 |\n",
      "|   5    | 7498505.590180576 | -13706318.435791772 |\n",
      "|   6    | 7574002.672777841 | -13699046.698723894 |\n",
      "|   7    | 7426713.936046556 | -13470289.609511876 |\n",
      "|   8    | 7413072.228709029 | -13363468.243552914 |\n",
      "|   9    | 7416816.228046092 |  -13256188.6919313  |\n",
      "+--------+-------------------+---------------------+\n"
     ]
    }
   ],
   "source": [
    "table = PrettyTable()\n",
    "table.field_names = [\"Degree\", \"Bias\", \"Variance\"]\n",
    "\n",
    "for i in range(9):\n",
    "    table.add_row([i+1, final_bias[i], final_variance[i]])\n",
    "\n",
    "print(table)"
   ]
  },
  {
   "cell_type": "code",
   "execution_count": 11,
   "metadata": {},
   "outputs": [
    {
     "data": {
      "image/png": "[encoded data removed]",
      "text/plain": [
       "<Figure size 432x288 with 1 Axes>"
      ]
     },
     "metadata": {
      "needs_background": "light"
     },
     "output_type": "display_data"
    }
   ],
   "source": [
    "plt.plot(final_bias)\n",
    "plt.plot(final_variance)\n",
    "plt.show()"
   ]
  },
  {
   "cell_type": "code",
   "execution_count": null,
   "metadata": {},
   "outputs": [],
   "source": []
  }
 ],
 "metadata": {
  "kernelspec": {
   "display_name": "Python 3",
   "language": "python",
   "name": "python3"
  },
  "language_info": {
   "codemirror_mode": {
    "name": "ipython",
    "version": 3
   },
   "file_extension": ".py",
   "mimetype": "text/x-python",
   "name": "python",
   "nbconvert_exporter": "python",
   "pygments_lexer": "ipython3",
   "version": "3.6.9"
  }
 },
 "nbformat": 4,
 "nbformat_minor": 4
}
