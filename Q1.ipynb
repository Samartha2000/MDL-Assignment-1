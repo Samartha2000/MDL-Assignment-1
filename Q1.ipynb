{
 "cells": [
  {
   "cell_type": "code",
   "execution_count": 1,
   "metadata": {},
   "outputs": [],
   "source": [
    "import pickle\n",
    "import numpy as np\n",
    "from sklearn import linear_model\n",
    "from sklearn.model_selection import train_test_split\n",
    "from sklearn.preprocessing import PolynomialFeatures\n",
    "from sklearn.linear_model import LinearRegression\n",
    "\n",
    "from prettytable import PrettyTable"
   ]
  },
  {
   "cell_type": "code",
   "execution_count": 2,
   "metadata": {},
   "outputs": [],
   "source": [
    "file = open('Q1_data/data.pkl', 'rb')\n",
    "data = pickle.load(file)\n",
    "file.close()"
   ]
  },
  {
   "cell_type": "code",
   "execution_count": 3,
   "metadata": {},
   "outputs": [],
   "source": [
    "train, test = train_test_split(data, test_size=0.1)"
   ]
  },
  {
   "cell_type": "code",
   "execution_count": 4,
   "metadata": {},
   "outputs": [],
   "source": [
    "train = np.array(train)\n",
    "train = np.split(train, 10)\n",
    "train = np.array(train)\n",
    "x_test = test[:, 0]\n",
    "y_test = test[:, 1]\n",
    "x_test = [[x] for x in x_test]"
   ]
  },
  {
   "cell_type": "code",
   "execution_count": 5,
   "metadata": {},
   "outputs": [],
   "source": [
    "final_bias = []\n",
    "final_variance = []"
   ]
  },
  {
   "cell_type": "code",
   "execution_count": 6,
   "metadata": {},
   "outputs": [],
   "source": [
    "for degree in range(1, 10):\n",
    "    bias = np.zeros(500)\n",
    "    variance = np.zeros(500)\n",
    "    y_predicted = []\n",
    "\n",
    "    for set_iter in range(10):\n",
    "        x_train = train[set_iter][:, 0]\n",
    "        y_train_data = train[set_iter][:, 1]\n",
    "        x_train = [[x] for x in x_train]\n",
    "\n",
    "        polyFeature = PolynomialFeatures(degree)\n",
    "        x_train_data = polyFeature.fit_transform(x_train)\n",
    "        x_test_poly = polyFeature.fit_transform(x_test)\n",
    "\n",
    "        reg = LinearRegression().fit(x_train_data, y_train_data)\n",
    "        y_predicted = reg.predict(x_test_poly)\n",
    "        bias = np.add(bias, y_predicted)\n",
    "        variance = np.add(variance, y_predicted**2)\n",
    "\n",
    "    bias /= 10                                          # E[y']\n",
    "    variance /= 10                                      # E[y'^2]\n",
    "\n",
    "    variance = np.subtract(variance, np.square(bias))   # var = E[y'^2] - E[y']^2\n",
    "    bias = np.subtract(bias, y_test)                    # bias = E[y'] - y\n",
    "    bias = np.square(bias)\n",
    "\n",
    "    final_bias.append(np.average(bias))\n",
    "    final_variance.append(np.average(variance))"
   ]
  },
  {
   "cell_type": "code",
   "execution_count": 7,
   "metadata": {},
   "outputs": [
    {
     "name": "stdout",
     "output_type": "stream",
     "text": [
      "+--------+--------------------+----------------------+\n",
      "| Degree |        Bias        |       Variance       |\n",
      "+--------+--------------------+----------------------+\n",
      "|   1    | 30.382699017155897 | 0.11544338219547115  |\n",
      "|   2    | 5.924585672001909  | 0.04502296305641688  |\n",
      "|   3    | 5.015610844134296  | 0.05115244153409899  |\n",
      "|   4    | 3.1233085948031856 | 0.02789675361056277  |\n",
      "|   5    | 2.908707891359978  | 0.03533252977038619  |\n",
      "|   6    | 2.6166087428939444 | 0.034037418727407946 |\n",
      "|   7    | 2.4400337853034135 | 0.04817353277658926  |\n",
      "|   8    | 2.406572207720985  | 0.05833617928915902  |\n",
      "|   9    |  2.4029919820855   | 0.07320640264416992  |\n",
      "+--------+--------------------+----------------------+\n"
     ]
    }
   ],
   "source": [
    "table = PrettyTable()\n",
    "table.field_names = [\"Degree\", \"Bias\", \"Variance\"]\n",
    "\n",
    "for i in range(9):\n",
    "    table.add_row([i+1, final_bias[i], final_variance[i]])\n",
    "\n",
    "print(table)"
   ]
  },
  {
   "cell_type": "code",
   "execution_count": null,
   "metadata": {},
   "outputs": [],
   "source": []
  }
 ],
 "metadata": {
  "kernelspec": {
   "display_name": "Python 3",
   "language": "python",
   "name": "python3"
  },
  "language_info": {
   "codemirror_mode": {
    "name": "ipython",
    "version": 3
   },
   "file_extension": ".py",
   "mimetype": "text/x-python",
   "name": "python",
   "nbconvert_exporter": "python",
   "pygments_lexer": "ipython3",
   "version": "3.6.9"
  }
 },
 "nbformat": 4,
 "nbformat_minor": 4
}
